{
 "cells": [
  {
   "cell_type": "code",
   "execution_count": 37,
   "id": "e908bfa8",
   "metadata": {},
   "outputs": [],
   "source": [
    "import numpy as np \n",
    "import pandas as pd \n",
    "import matplotlib.pyplot as plt\n",
    "import seaborn as sns\n",
    "from sklearn.model_selection import train_test_split\n",
    "from sklearn.preprocessing import StandardScaler\n",
    "from sklearn.linear_model import LinearRegression\n",
    "from sklearn.ensemble import RandomForestRegressor\n",
    "from sklearn.svm import SVR"
   ]
  },
  {
   "cell_type": "code",
   "execution_count": 38,
   "id": "ac7cf893",
   "metadata": {
    "scrolled": true
   },
   "outputs": [
    {
     "data": {
      "text/html": [
       "<div>\n",
       "<style scoped>\n",
       "    .dataframe tbody tr th:only-of-type {\n",
       "        vertical-align: middle;\n",
       "    }\n",
       "\n",
       "    .dataframe tbody tr th {\n",
       "        vertical-align: top;\n",
       "    }\n",
       "\n",
       "    .dataframe thead th {\n",
       "        text-align: right;\n",
       "    }\n",
       "</style>\n",
       "<table border=\"1\" class=\"dataframe\">\n",
       "  <thead>\n",
       "    <tr style=\"text-align: right;\">\n",
       "      <th></th>\n",
       "      <th>Date</th>\n",
       "      <th>SPX</th>\n",
       "      <th>GLD</th>\n",
       "      <th>USO</th>\n",
       "      <th>SLV</th>\n",
       "      <th>EUR/USD</th>\n",
       "    </tr>\n",
       "  </thead>\n",
       "  <tbody>\n",
       "    <tr>\n",
       "      <th>0</th>\n",
       "      <td>1/2/2008</td>\n",
       "      <td>1447.160034</td>\n",
       "      <td>84.860001</td>\n",
       "      <td>78.470001</td>\n",
       "      <td>15.1800</td>\n",
       "      <td>1.471692</td>\n",
       "    </tr>\n",
       "    <tr>\n",
       "      <th>1</th>\n",
       "      <td>1/3/2008</td>\n",
       "      <td>1447.160034</td>\n",
       "      <td>85.570000</td>\n",
       "      <td>78.370003</td>\n",
       "      <td>15.2850</td>\n",
       "      <td>1.474491</td>\n",
       "    </tr>\n",
       "    <tr>\n",
       "      <th>2</th>\n",
       "      <td>1/4/2008</td>\n",
       "      <td>1411.630005</td>\n",
       "      <td>85.129997</td>\n",
       "      <td>77.309998</td>\n",
       "      <td>15.1670</td>\n",
       "      <td>1.475492</td>\n",
       "    </tr>\n",
       "    <tr>\n",
       "      <th>3</th>\n",
       "      <td>1/7/2008</td>\n",
       "      <td>1416.180054</td>\n",
       "      <td>84.769997</td>\n",
       "      <td>75.500000</td>\n",
       "      <td>15.0530</td>\n",
       "      <td>1.468299</td>\n",
       "    </tr>\n",
       "    <tr>\n",
       "      <th>4</th>\n",
       "      <td>1/8/2008</td>\n",
       "      <td>1390.189941</td>\n",
       "      <td>86.779999</td>\n",
       "      <td>76.059998</td>\n",
       "      <td>15.5900</td>\n",
       "      <td>1.557099</td>\n",
       "    </tr>\n",
       "    <tr>\n",
       "      <th>...</th>\n",
       "      <td>...</td>\n",
       "      <td>...</td>\n",
       "      <td>...</td>\n",
       "      <td>...</td>\n",
       "      <td>...</td>\n",
       "      <td>...</td>\n",
       "    </tr>\n",
       "    <tr>\n",
       "      <th>2285</th>\n",
       "      <td>5/8/2018</td>\n",
       "      <td>2671.919922</td>\n",
       "      <td>124.589996</td>\n",
       "      <td>14.060000</td>\n",
       "      <td>15.5100</td>\n",
       "      <td>1.186789</td>\n",
       "    </tr>\n",
       "    <tr>\n",
       "      <th>2286</th>\n",
       "      <td>5/9/2018</td>\n",
       "      <td>2697.790039</td>\n",
       "      <td>124.330002</td>\n",
       "      <td>14.370000</td>\n",
       "      <td>15.5300</td>\n",
       "      <td>1.184722</td>\n",
       "    </tr>\n",
       "    <tr>\n",
       "      <th>2287</th>\n",
       "      <td>5/10/2018</td>\n",
       "      <td>2723.070068</td>\n",
       "      <td>125.180000</td>\n",
       "      <td>14.410000</td>\n",
       "      <td>15.7400</td>\n",
       "      <td>1.191753</td>\n",
       "    </tr>\n",
       "    <tr>\n",
       "      <th>2288</th>\n",
       "      <td>5/14/2018</td>\n",
       "      <td>2730.129883</td>\n",
       "      <td>124.489998</td>\n",
       "      <td>14.380000</td>\n",
       "      <td>15.5600</td>\n",
       "      <td>1.193118</td>\n",
       "    </tr>\n",
       "    <tr>\n",
       "      <th>2289</th>\n",
       "      <td>5/16/2018</td>\n",
       "      <td>2725.780029</td>\n",
       "      <td>122.543800</td>\n",
       "      <td>14.405800</td>\n",
       "      <td>15.4542</td>\n",
       "      <td>1.182033</td>\n",
       "    </tr>\n",
       "  </tbody>\n",
       "</table>\n",
       "<p>2290 rows × 6 columns</p>\n",
       "</div>"
      ],
      "text/plain": [
       "           Date          SPX         GLD        USO      SLV   EUR/USD\n",
       "0      1/2/2008  1447.160034   84.860001  78.470001  15.1800  1.471692\n",
       "1      1/3/2008  1447.160034   85.570000  78.370003  15.2850  1.474491\n",
       "2      1/4/2008  1411.630005   85.129997  77.309998  15.1670  1.475492\n",
       "3      1/7/2008  1416.180054   84.769997  75.500000  15.0530  1.468299\n",
       "4      1/8/2008  1390.189941   86.779999  76.059998  15.5900  1.557099\n",
       "...         ...          ...         ...        ...      ...       ...\n",
       "2285   5/8/2018  2671.919922  124.589996  14.060000  15.5100  1.186789\n",
       "2286   5/9/2018  2697.790039  124.330002  14.370000  15.5300  1.184722\n",
       "2287  5/10/2018  2723.070068  125.180000  14.410000  15.7400  1.191753\n",
       "2288  5/14/2018  2730.129883  124.489998  14.380000  15.5600  1.193118\n",
       "2289  5/16/2018  2725.780029  122.543800  14.405800  15.4542  1.182033\n",
       "\n",
       "[2290 rows x 6 columns]"
      ]
     },
     "execution_count": 38,
     "metadata": {},
     "output_type": "execute_result"
    }
   ],
   "source": [
    "df=pd.read_csv('gld_price_data.csv')\n",
    "df"
   ]
  },
  {
   "cell_type": "code",
   "execution_count": 39,
   "id": "594a9a50",
   "metadata": {},
   "outputs": [
    {
     "name": "stdout",
     "output_type": "stream",
     "text": [
      "<class 'pandas.core.frame.DataFrame'>\n",
      "RangeIndex: 2290 entries, 0 to 2289\n",
      "Data columns (total 6 columns):\n",
      " #   Column   Non-Null Count  Dtype  \n",
      "---  ------   --------------  -----  \n",
      " 0   Date     2290 non-null   object \n",
      " 1   SPX      2290 non-null   float64\n",
      " 2   GLD      2290 non-null   float64\n",
      " 3   USO      2290 non-null   float64\n",
      " 4   SLV      2290 non-null   float64\n",
      " 5   EUR/USD  2290 non-null   float64\n",
      "dtypes: float64(5), object(1)\n",
      "memory usage: 107.5+ KB\n"
     ]
    }
   ],
   "source": [
    "df.info()"
   ]
  },
  {
   "cell_type": "code",
   "execution_count": 40,
   "id": "49858de9",
   "metadata": {},
   "outputs": [
    {
     "data": {
      "text/html": [
       "<div>\n",
       "<style scoped>\n",
       "    .dataframe tbody tr th:only-of-type {\n",
       "        vertical-align: middle;\n",
       "    }\n",
       "\n",
       "    .dataframe tbody tr th {\n",
       "        vertical-align: top;\n",
       "    }\n",
       "\n",
       "    .dataframe thead th {\n",
       "        text-align: right;\n",
       "    }\n",
       "</style>\n",
       "<table border=\"1\" class=\"dataframe\">\n",
       "  <thead>\n",
       "    <tr style=\"text-align: right;\">\n",
       "      <th></th>\n",
       "      <th>Date</th>\n",
       "      <th>SPX</th>\n",
       "      <th>GLD</th>\n",
       "      <th>USO</th>\n",
       "      <th>SLV</th>\n",
       "      <th>EUR/USD</th>\n",
       "    </tr>\n",
       "  </thead>\n",
       "  <tbody>\n",
       "    <tr>\n",
       "      <th>0</th>\n",
       "      <td>1/2/2008</td>\n",
       "      <td>1447.160034</td>\n",
       "      <td>84.860001</td>\n",
       "      <td>78.470001</td>\n",
       "      <td>15.180</td>\n",
       "      <td>1.471692</td>\n",
       "    </tr>\n",
       "    <tr>\n",
       "      <th>1</th>\n",
       "      <td>1/3/2008</td>\n",
       "      <td>1447.160034</td>\n",
       "      <td>85.570000</td>\n",
       "      <td>78.370003</td>\n",
       "      <td>15.285</td>\n",
       "      <td>1.474491</td>\n",
       "    </tr>\n",
       "    <tr>\n",
       "      <th>2</th>\n",
       "      <td>1/4/2008</td>\n",
       "      <td>1411.630005</td>\n",
       "      <td>85.129997</td>\n",
       "      <td>77.309998</td>\n",
       "      <td>15.167</td>\n",
       "      <td>1.475492</td>\n",
       "    </tr>\n",
       "    <tr>\n",
       "      <th>3</th>\n",
       "      <td>1/7/2008</td>\n",
       "      <td>1416.180054</td>\n",
       "      <td>84.769997</td>\n",
       "      <td>75.500000</td>\n",
       "      <td>15.053</td>\n",
       "      <td>1.468299</td>\n",
       "    </tr>\n",
       "    <tr>\n",
       "      <th>4</th>\n",
       "      <td>1/8/2008</td>\n",
       "      <td>1390.189941</td>\n",
       "      <td>86.779999</td>\n",
       "      <td>76.059998</td>\n",
       "      <td>15.590</td>\n",
       "      <td>1.557099</td>\n",
       "    </tr>\n",
       "  </tbody>\n",
       "</table>\n",
       "</div>"
      ],
      "text/plain": [
       "       Date          SPX        GLD        USO     SLV   EUR/USD\n",
       "0  1/2/2008  1447.160034  84.860001  78.470001  15.180  1.471692\n",
       "1  1/3/2008  1447.160034  85.570000  78.370003  15.285  1.474491\n",
       "2  1/4/2008  1411.630005  85.129997  77.309998  15.167  1.475492\n",
       "3  1/7/2008  1416.180054  84.769997  75.500000  15.053  1.468299\n",
       "4  1/8/2008  1390.189941  86.779999  76.059998  15.590  1.557099"
      ]
     },
     "execution_count": 40,
     "metadata": {},
     "output_type": "execute_result"
    }
   ],
   "source": [
    "df.head()"
   ]
  },
  {
   "cell_type": "code",
   "execution_count": 41,
   "id": "00a401a3",
   "metadata": {},
   "outputs": [
    {
     "data": {
      "text/html": [
       "<div>\n",
       "<style scoped>\n",
       "    .dataframe tbody tr th:only-of-type {\n",
       "        vertical-align: middle;\n",
       "    }\n",
       "\n",
       "    .dataframe tbody tr th {\n",
       "        vertical-align: top;\n",
       "    }\n",
       "\n",
       "    .dataframe thead th {\n",
       "        text-align: right;\n",
       "    }\n",
       "</style>\n",
       "<table border=\"1\" class=\"dataframe\">\n",
       "  <thead>\n",
       "    <tr style=\"text-align: right;\">\n",
       "      <th></th>\n",
       "      <th>Date</th>\n",
       "      <th>SPX</th>\n",
       "      <th>GLD</th>\n",
       "      <th>USO</th>\n",
       "      <th>SLV</th>\n",
       "      <th>EUR/USD</th>\n",
       "    </tr>\n",
       "  </thead>\n",
       "  <tbody>\n",
       "    <tr>\n",
       "      <th>2285</th>\n",
       "      <td>5/8/2018</td>\n",
       "      <td>2671.919922</td>\n",
       "      <td>124.589996</td>\n",
       "      <td>14.0600</td>\n",
       "      <td>15.5100</td>\n",
       "      <td>1.186789</td>\n",
       "    </tr>\n",
       "    <tr>\n",
       "      <th>2286</th>\n",
       "      <td>5/9/2018</td>\n",
       "      <td>2697.790039</td>\n",
       "      <td>124.330002</td>\n",
       "      <td>14.3700</td>\n",
       "      <td>15.5300</td>\n",
       "      <td>1.184722</td>\n",
       "    </tr>\n",
       "    <tr>\n",
       "      <th>2287</th>\n",
       "      <td>5/10/2018</td>\n",
       "      <td>2723.070068</td>\n",
       "      <td>125.180000</td>\n",
       "      <td>14.4100</td>\n",
       "      <td>15.7400</td>\n",
       "      <td>1.191753</td>\n",
       "    </tr>\n",
       "    <tr>\n",
       "      <th>2288</th>\n",
       "      <td>5/14/2018</td>\n",
       "      <td>2730.129883</td>\n",
       "      <td>124.489998</td>\n",
       "      <td>14.3800</td>\n",
       "      <td>15.5600</td>\n",
       "      <td>1.193118</td>\n",
       "    </tr>\n",
       "    <tr>\n",
       "      <th>2289</th>\n",
       "      <td>5/16/2018</td>\n",
       "      <td>2725.780029</td>\n",
       "      <td>122.543800</td>\n",
       "      <td>14.4058</td>\n",
       "      <td>15.4542</td>\n",
       "      <td>1.182033</td>\n",
       "    </tr>\n",
       "  </tbody>\n",
       "</table>\n",
       "</div>"
      ],
      "text/plain": [
       "           Date          SPX         GLD      USO      SLV   EUR/USD\n",
       "2285   5/8/2018  2671.919922  124.589996  14.0600  15.5100  1.186789\n",
       "2286   5/9/2018  2697.790039  124.330002  14.3700  15.5300  1.184722\n",
       "2287  5/10/2018  2723.070068  125.180000  14.4100  15.7400  1.191753\n",
       "2288  5/14/2018  2730.129883  124.489998  14.3800  15.5600  1.193118\n",
       "2289  5/16/2018  2725.780029  122.543800  14.4058  15.4542  1.182033"
      ]
     },
     "execution_count": 41,
     "metadata": {},
     "output_type": "execute_result"
    }
   ],
   "source": [
    "df.tail()"
   ]
  },
  {
   "cell_type": "code",
   "execution_count": 42,
   "id": "29537ba1",
   "metadata": {},
   "outputs": [
    {
     "data": {
      "text/plain": [
       "(2290, 6)"
      ]
     },
     "execution_count": 42,
     "metadata": {},
     "output_type": "execute_result"
    }
   ],
   "source": [
    "#Number of rows and columns\n",
    "df.shape"
   ]
  },
  {
   "cell_type": "code",
   "execution_count": 43,
   "id": "b9336e6d",
   "metadata": {},
   "outputs": [
    {
     "data": {
      "text/plain": [
       "Date       0\n",
       "SPX        0\n",
       "GLD        0\n",
       "USO        0\n",
       "SLV        0\n",
       "EUR/USD    0\n",
       "dtype: int64"
      ]
     },
     "execution_count": 43,
     "metadata": {},
     "output_type": "execute_result"
    }
   ],
   "source": [
    "#Checking the number \n",
    "df.isnull().sum()"
   ]
  },
  {
   "cell_type": "code",
   "execution_count": 44,
   "id": "1b1feaa0",
   "metadata": {},
   "outputs": [
    {
     "data": {
      "text/html": [
       "<div>\n",
       "<style scoped>\n",
       "    .dataframe tbody tr th:only-of-type {\n",
       "        vertical-align: middle;\n",
       "    }\n",
       "\n",
       "    .dataframe tbody tr th {\n",
       "        vertical-align: top;\n",
       "    }\n",
       "\n",
       "    .dataframe thead th {\n",
       "        text-align: right;\n",
       "    }\n",
       "</style>\n",
       "<table border=\"1\" class=\"dataframe\">\n",
       "  <thead>\n",
       "    <tr style=\"text-align: right;\">\n",
       "      <th></th>\n",
       "      <th>SPX</th>\n",
       "      <th>GLD</th>\n",
       "      <th>USO</th>\n",
       "      <th>SLV</th>\n",
       "      <th>EUR/USD</th>\n",
       "    </tr>\n",
       "  </thead>\n",
       "  <tbody>\n",
       "    <tr>\n",
       "      <th>count</th>\n",
       "      <td>2290.000000</td>\n",
       "      <td>2290.000000</td>\n",
       "      <td>2290.000000</td>\n",
       "      <td>2290.000000</td>\n",
       "      <td>2290.000000</td>\n",
       "    </tr>\n",
       "    <tr>\n",
       "      <th>mean</th>\n",
       "      <td>1654.315776</td>\n",
       "      <td>122.732875</td>\n",
       "      <td>31.842221</td>\n",
       "      <td>20.084997</td>\n",
       "      <td>1.283653</td>\n",
       "    </tr>\n",
       "    <tr>\n",
       "      <th>std</th>\n",
       "      <td>519.111540</td>\n",
       "      <td>23.283346</td>\n",
       "      <td>19.523517</td>\n",
       "      <td>7.092566</td>\n",
       "      <td>0.131547</td>\n",
       "    </tr>\n",
       "    <tr>\n",
       "      <th>min</th>\n",
       "      <td>676.530029</td>\n",
       "      <td>70.000000</td>\n",
       "      <td>7.960000</td>\n",
       "      <td>8.850000</td>\n",
       "      <td>1.039047</td>\n",
       "    </tr>\n",
       "    <tr>\n",
       "      <th>25%</th>\n",
       "      <td>1239.874969</td>\n",
       "      <td>109.725000</td>\n",
       "      <td>14.380000</td>\n",
       "      <td>15.570000</td>\n",
       "      <td>1.171313</td>\n",
       "    </tr>\n",
       "    <tr>\n",
       "      <th>50%</th>\n",
       "      <td>1551.434998</td>\n",
       "      <td>120.580002</td>\n",
       "      <td>33.869999</td>\n",
       "      <td>17.268500</td>\n",
       "      <td>1.303297</td>\n",
       "    </tr>\n",
       "    <tr>\n",
       "      <th>75%</th>\n",
       "      <td>2073.010070</td>\n",
       "      <td>132.840004</td>\n",
       "      <td>37.827501</td>\n",
       "      <td>22.882500</td>\n",
       "      <td>1.369971</td>\n",
       "    </tr>\n",
       "    <tr>\n",
       "      <th>max</th>\n",
       "      <td>2872.870117</td>\n",
       "      <td>184.589996</td>\n",
       "      <td>117.480003</td>\n",
       "      <td>47.259998</td>\n",
       "      <td>1.598798</td>\n",
       "    </tr>\n",
       "  </tbody>\n",
       "</table>\n",
       "</div>"
      ],
      "text/plain": [
       "               SPX          GLD          USO          SLV      EUR/USD\n",
       "count  2290.000000  2290.000000  2290.000000  2290.000000  2290.000000\n",
       "mean   1654.315776   122.732875    31.842221    20.084997     1.283653\n",
       "std     519.111540    23.283346    19.523517     7.092566     0.131547\n",
       "min     676.530029    70.000000     7.960000     8.850000     1.039047\n",
       "25%    1239.874969   109.725000    14.380000    15.570000     1.171313\n",
       "50%    1551.434998   120.580002    33.869999    17.268500     1.303297\n",
       "75%    2073.010070   132.840004    37.827501    22.882500     1.369971\n",
       "max    2872.870117   184.589996   117.480003    47.259998     1.598798"
      ]
     },
     "execution_count": 44,
     "metadata": {},
     "output_type": "execute_result"
    }
   ],
   "source": [
    "#Getting statistical measure of data \n",
    "df.describe()"
   ]
  },
  {
   "cell_type": "code",
   "execution_count": 45,
   "id": "d40c4ff0",
   "metadata": {},
   "outputs": [
    {
     "name": "stderr",
     "output_type": "stream",
     "text": [
      "C:\\Users\\Aaba\\AppData\\Local\\Temp\\ipykernel_11056\\453414080.py:2: FutureWarning: The default value of numeric_only in DataFrame.corr is deprecated. In a future version, it will default to False. Select only valid columns or specify the value of numeric_only to silence this warning.\n",
      "  correlation=df.corr()\n"
     ]
    }
   ],
   "source": [
    "#Correlation 1.Positive Correlation 2.Negative Correlation\n",
    "correlation=df.corr()\n"
   ]
  },
  {
   "cell_type": "code",
   "execution_count": 46,
   "id": "b99a2b6b",
   "metadata": {},
   "outputs": [
    {
     "data": {
      "text/plain": [
       "<Axes: >"
      ]
     },
     "execution_count": 46,
     "metadata": {},
     "output_type": "execute_result"
    },
    {
     "data": {
      "image/png": "[encoded data removed]",
      "text/plain": [
       "<Figure size 800x800 with 2 Axes>"
      ]
     },
     "metadata": {},
     "output_type": "display_data"
    }
   ],
   "source": [
    "#constructing a heatmap to understand the correlation\n",
    "plt.figure(figsize=(8,8))\n",
    "sns.heatmap(correlation,cbar=True,fmt='.1f',annot=True,annot_kws={'size':8},cmap='Blues')\n"
   ]
  },
  {
   "cell_type": "code",
   "execution_count": 47,
   "id": "8c9a85c4",
   "metadata": {},
   "outputs": [
    {
     "name": "stdout",
     "output_type": "stream",
     "text": [
      "SPX        0.049345\n",
      "GLD        1.000000\n",
      "USO       -0.186360\n",
      "SLV        0.866632\n",
      "EUR/USD   -0.024375\n",
      "Name: GLD, dtype: float64\n"
     ]
    }
   ],
   "source": [
    "#correlation values of GLD\n",
    "print(correlation['GLD'])"
   ]
  },
  {
   "cell_type": "code",
   "execution_count": 48,
   "id": "01e8550d",
   "metadata": {
    "scrolled": true
   },
   "outputs": [
    {
     "name": "stderr",
     "output_type": "stream",
     "text": [
      "C:\\Users\\Aaba\\AppData\\Local\\Temp\\ipykernel_11056\\2389012694.py:2: UserWarning: \n",
      "\n",
      "`distplot` is a deprecated function and will be removed in seaborn v0.14.0.\n",
      "\n",
      "Please adapt your code to use either `displot` (a figure-level function with\n",
      "similar flexibility) or `histplot` (an axes-level function for histograms).\n",
      "\n",
      "For a guide to updating your code to use the new functions, please see\n",
      "https://gist.github.com/mwaskom/de44147ed2974457ad6372750bbe5751\n",
      "\n",
      "  sns.distplot(df['GLD'],color='green')\n"
     ]
    },
    {
     "data": {
      "text/plain": [
       "<Axes: xlabel='GLD', ylabel='Density'>"
      ]
     },
     "execution_count": 48,
     "metadata": {},
     "output_type": "execute_result"
    },
    {
     "data": {
      "image/png": "[encoded data removed]",
      "text/plain": [
       "<Figure size 640x480 with 1 Axes>"
      ]
     },
     "metadata": {},
     "output_type": "display_data"
    }
   ],
   "source": [
    "#checking the distribution of the GLD price\n",
    "sns.distplot(df['GLD'],color='green')"
   ]
  },
  {
   "cell_type": "code",
   "execution_count": 49,
   "id": "fd9cf7e3",
   "metadata": {
    "scrolled": true
   },
   "outputs": [
    {
     "data": {
      "image/png": "[encoded data removed]",
      "text/plain": [
       "<Figure size 600x600 with 1 Axes>"
      ]
     },
     "metadata": {},
     "output_type": "display_data"
    }
   ],
   "source": [
    "plt.figure(figsize=(6,6))\n",
    "sns.scatterplot(x=df.Date,y=df.GLD)\n",
    "plt.show()"
   ]
  },
  {
   "cell_type": "code",
   "execution_count": 50,
   "id": "7a3b9238",
   "metadata": {},
   "outputs": [
    {
     "data": {
      "image/png": "[encoded data removed]",
      "text/plain": [
       "<Figure size 600x600 with 1 Axes>"
      ]
     },
     "metadata": {},
     "output_type": "display_data"
    }
   ],
   "source": [
    "plt.figure(figsize=(6,6))\n",
    "sns.scatterplot(x=df.GLD,y=df.USO)\n",
    "plt.show()"
   ]
  },
  {
   "cell_type": "code",
   "execution_count": 51,
   "id": "4689d07d",
   "metadata": {},
   "outputs": [],
   "source": [
    "#Model training\n",
    "#Splitting the features and target\n",
    "X=df.drop(['Date','GLD'],axis=1)\n",
    "y=df['GLD']"
   ]
  },
  {
   "cell_type": "code",
   "execution_count": 52,
   "id": "97ca68af",
   "metadata": {},
   "outputs": [],
   "source": [
    "#feature scaling\n",
    "\n",
    "sc=StandardScaler()\n",
    "sc.fit(X_train)\n",
    "X_trainsc=sc.transform(X_train)\n",
    "X_testsc=sc.transform(X_test)\n"
   ]
  },
  {
   "cell_type": "code",
   "execution_count": 53,
   "id": "de1e4cb6",
   "metadata": {},
   "outputs": [],
   "source": [
    "X_train,X_test,y_train,y_test = train_test_split(X,y,test_size=0.2,random_state=42)"
   ]
  },
  {
   "cell_type": "code",
   "execution_count": 54,
   "id": "1cbda3f8",
   "metadata": {},
   "outputs": [
    {
     "name": "stdout",
     "output_type": "stream",
     "text": [
      "Shape of X_train= (1832, 4)\n",
      "Shape of y_train= (1832,)\n",
      "Shape of X_test= (458, 4)\n",
      "Shape of y_test= (458, 4)\n"
     ]
    }
   ],
   "source": [
    "print('Shape of X_train=',X_train.shape)\n",
    "print('Shape of y_train=',y_train.shape)\n",
    "print('Shape of X_test=',X_test.shape)\n",
    "print('Shape of y_test=',X_test.shape)"
   ]
  },
  {
   "cell_type": "code",
   "execution_count": 55,
   "id": "98aa82af",
   "metadata": {
    "scrolled": true
   },
   "outputs": [
    {
     "data": {
      "text/html": [
       "<style>#sk-container-id-4 {color: black;background-color: white;}#sk-container-id-4 pre{padding: 0;}#sk-container-id-4 div.sk-toggleable {background-color: white;}#sk-container-id-4 label.sk-toggleable__label {cursor: pointer;display: block;width: 100%;margin-bottom: 0;padding: 0.3em;box-sizing: border-box;text-align: center;}#sk-container-id-4 label.sk-toggleable__label-arrow:before {content: \"▸\";float: left;margin-right: 0.25em;color: #696969;}#sk-container-id-4 label.sk-toggleable__label-arrow:hover:before {color: black;}#sk-container-id-4 div.sk-estimator:hover label.sk-toggleable__label-arrow:before {color: black;}#sk-container-id-4 div.sk-toggleable__content {max-height: 0;max-width: 0;overflow: hidden;text-align: left;background-color: #f0f8ff;}#sk-container-id-4 div.sk-toggleable__content pre {margin: 0.2em;color: black;border-radius: 0.25em;background-color: #f0f8ff;}#sk-container-id-4 input.sk-toggleable__control:checked~div.sk-toggleable__content {max-height: 200px;max-width: 100%;overflow: auto;}#sk-container-id-4 input.sk-toggleable__control:checked~label.sk-toggleable__label-arrow:before {content: \"▾\";}#sk-container-id-4 div.sk-estimator input.sk-toggleable__control:checked~label.sk-toggleable__label {background-color: #d4ebff;}#sk-container-id-4 div.sk-label input.sk-toggleable__control:checked~label.sk-toggleable__label {background-color: #d4ebff;}#sk-container-id-4 input.sk-hidden--visually {border: 0;clip: rect(1px 1px 1px 1px);clip: rect(1px, 1px, 1px, 1px);height: 1px;margin: -1px;overflow: hidden;padding: 0;position: absolute;width: 1px;}#sk-container-id-4 div.sk-estimator {font-family: monospace;background-color: #f0f8ff;border: 1px dotted black;border-radius: 0.25em;box-sizing: border-box;margin-bottom: 0.5em;}#sk-container-id-4 div.sk-estimator:hover {background-color: #d4ebff;}#sk-container-id-4 div.sk-parallel-item::after {content: \"\";width: 100%;border-bottom: 1px solid gray;flex-grow: 1;}#sk-container-id-4 div.sk-label:hover label.sk-toggleable__label {background-color: #d4ebff;}#sk-container-id-4 div.sk-serial::before {content: \"\";position: absolute;border-left: 1px solid gray;box-sizing: border-box;top: 0;bottom: 0;left: 50%;z-index: 0;}#sk-container-id-4 div.sk-serial {display: flex;flex-direction: column;align-items: center;background-color: white;padding-right: 0.2em;padding-left: 0.2em;position: relative;}#sk-container-id-4 div.sk-item {position: relative;z-index: 1;}#sk-container-id-4 div.sk-parallel {display: flex;align-items: stretch;justify-content: center;background-color: white;position: relative;}#sk-container-id-4 div.sk-item::before, #sk-container-id-4 div.sk-parallel-item::before {content: \"\";position: absolute;border-left: 1px solid gray;box-sizing: border-box;top: 0;bottom: 0;left: 50%;z-index: -1;}#sk-container-id-4 div.sk-parallel-item {display: flex;flex-direction: column;z-index: 1;position: relative;background-color: white;}#sk-container-id-4 div.sk-parallel-item:first-child::after {align-self: flex-end;width: 50%;}#sk-container-id-4 div.sk-parallel-item:last-child::after {align-self: flex-start;width: 50%;}#sk-container-id-4 div.sk-parallel-item:only-child::after {width: 0;}#sk-container-id-4 div.sk-dashed-wrapped {border: 1px dashed gray;margin: 0 0.4em 0.5em 0.4em;box-sizing: border-box;padding-bottom: 0.4em;background-color: white;}#sk-container-id-4 div.sk-label label {font-family: monospace;font-weight: bold;display: inline-block;line-height: 1.2em;}#sk-container-id-4 div.sk-label-container {text-align: center;}#sk-container-id-4 div.sk-container {/* jupyter's `normalize.less` sets `[hidden] { display: none; }` but bootstrap.min.css set `[hidden] { display: none !important; }` so we also need the `!important` here to be able to override the default hidden behavior on the sphinx rendered scikit-learn.org. See: https://github.com/scikit-learn/scikit-learn/issues/21755 */display: inline-block !important;position: relative;}#sk-container-id-4 div.sk-text-repr-fallback {display: none;}</style><div id=\"sk-container-id-4\" class=\"sk-top-container\"><div class=\"sk-text-repr-fallback\"><pre>LinearRegression()</pre><b>In a Jupyter environment, please rerun this cell to show the HTML representation or trust the notebook. <br />On GitHub, the HTML representation is unable to render, please try loading this page with nbviewer.org.</b></div><div class=\"sk-container\" hidden><div class=\"sk-item\"><div class=\"sk-estimator sk-toggleable\"><input class=\"sk-toggleable__control sk-hidden--visually\" id=\"sk-estimator-id-4\" type=\"checkbox\" checked><label for=\"sk-estimator-id-4\" class=\"sk-toggleable__label sk-toggleable__label-arrow\">LinearRegression</label><div class=\"sk-toggleable__content\"><pre>LinearRegression()</pre></div></div></div></div></div>"
      ],
      "text/plain": [
       "LinearRegression()"
      ]
     },
     "execution_count": 55,
     "metadata": {},
     "output_type": "execute_result"
    }
   ],
   "source": [
    "lr = LinearRegression()\n",
    "lr.fit(X_train,y_train)"
   ]
  },
  {
   "cell_type": "code",
   "execution_count": 56,
   "id": "b4e3d319",
   "metadata": {},
   "outputs": [
    {
     "name": "stdout",
     "output_type": "stream",
     "text": [
      "liner regression train data accuracy is :  0.8771892526181604\n"
     ]
    }
   ],
   "source": [
    "train_accuracy=lr.score(X_train,y_train)\n",
    "print(\"liner regression train data accuracy is : \",train_accuracy)"
   ]
  },
  {
   "cell_type": "code",
   "execution_count": 57,
   "id": "d4e603b8",
   "metadata": {},
   "outputs": [
    {
     "name": "stdout",
     "output_type": "stream",
     "text": [
      "liner regression train data accuracy is :  0.8975640982991401\n"
     ]
    }
   ],
   "source": [
    "test_accuracy=lr.score(X_test,y_test)\n",
    "print(\"liner regression train data accuracy is : \",test_accuracy)"
   ]
  },
  {
   "cell_type": "code",
   "execution_count": 58,
   "id": "7ea74bca",
   "metadata": {},
   "outputs": [],
   "source": [
    "#Random Forest Regressor\n",
    "regressor=RandomForestRegressor(n_estimators=100)"
   ]
  },
  {
   "cell_type": "code",
   "execution_count": 59,
   "id": "da6c133d",
   "metadata": {},
   "outputs": [
    {
     "data": {
      "text/html": [
       "<style>#sk-container-id-5 {color: black;background-color: white;}#sk-container-id-5 pre{padding: 0;}#sk-container-id-5 div.sk-toggleable {background-color: white;}#sk-container-id-5 label.sk-toggleable__label {cursor: pointer;display: block;width: 100%;margin-bottom: 0;padding: 0.3em;box-sizing: border-box;text-align: center;}#sk-container-id-5 label.sk-toggleable__label-arrow:before {content: \"▸\";float: left;margin-right: 0.25em;color: #696969;}#sk-container-id-5 label.sk-toggleable__label-arrow:hover:before {color: black;}#sk-container-id-5 div.sk-estimator:hover label.sk-toggleable__label-arrow:before {color: black;}#sk-container-id-5 div.sk-toggleable__content {max-height: 0;max-width: 0;overflow: hidden;text-align: left;background-color: #f0f8ff;}#sk-container-id-5 div.sk-toggleable__content pre {margin: 0.2em;color: black;border-radius: 0.25em;background-color: #f0f8ff;}#sk-container-id-5 input.sk-toggleable__control:checked~div.sk-toggleable__content {max-height: 200px;max-width: 100%;overflow: auto;}#sk-container-id-5 input.sk-toggleable__control:checked~label.sk-toggleable__label-arrow:before {content: \"▾\";}#sk-container-id-5 div.sk-estimator input.sk-toggleable__control:checked~label.sk-toggleable__label {background-color: #d4ebff;}#sk-container-id-5 div.sk-label input.sk-toggleable__control:checked~label.sk-toggleable__label {background-color: #d4ebff;}#sk-container-id-5 input.sk-hidden--visually {border: 0;clip: rect(1px 1px 1px 1px);clip: rect(1px, 1px, 1px, 1px);height: 1px;margin: -1px;overflow: hidden;padding: 0;position: absolute;width: 1px;}#sk-container-id-5 div.sk-estimator {font-family: monospace;background-color: #f0f8ff;border: 1px dotted black;border-radius: 0.25em;box-sizing: border-box;margin-bottom: 0.5em;}#sk-container-id-5 div.sk-estimator:hover {background-color: #d4ebff;}#sk-container-id-5 div.sk-parallel-item::after {content: \"\";width: 100%;border-bottom: 1px solid gray;flex-grow: 1;}#sk-container-id-5 div.sk-label:hover label.sk-toggleable__label {background-color: #d4ebff;}#sk-container-id-5 div.sk-serial::before {content: \"\";position: absolute;border-left: 1px solid gray;box-sizing: border-box;top: 0;bottom: 0;left: 50%;z-index: 0;}#sk-container-id-5 div.sk-serial {display: flex;flex-direction: column;align-items: center;background-color: white;padding-right: 0.2em;padding-left: 0.2em;position: relative;}#sk-container-id-5 div.sk-item {position: relative;z-index: 1;}#sk-container-id-5 div.sk-parallel {display: flex;align-items: stretch;justify-content: center;background-color: white;position: relative;}#sk-container-id-5 div.sk-item::before, #sk-container-id-5 div.sk-parallel-item::before {content: \"\";position: absolute;border-left: 1px solid gray;box-sizing: border-box;top: 0;bottom: 0;left: 50%;z-index: -1;}#sk-container-id-5 div.sk-parallel-item {display: flex;flex-direction: column;z-index: 1;position: relative;background-color: white;}#sk-container-id-5 div.sk-parallel-item:first-child::after {align-self: flex-end;width: 50%;}#sk-container-id-5 div.sk-parallel-item:last-child::after {align-self: flex-start;width: 50%;}#sk-container-id-5 div.sk-parallel-item:only-child::after {width: 0;}#sk-container-id-5 div.sk-dashed-wrapped {border: 1px dashed gray;margin: 0 0.4em 0.5em 0.4em;box-sizing: border-box;padding-bottom: 0.4em;background-color: white;}#sk-container-id-5 div.sk-label label {font-family: monospace;font-weight: bold;display: inline-block;line-height: 1.2em;}#sk-container-id-5 div.sk-label-container {text-align: center;}#sk-container-id-5 div.sk-container {/* jupyter's `normalize.less` sets `[hidden] { display: none; }` but bootstrap.min.css set `[hidden] { display: none !important; }` so we also need the `!important` here to be able to override the default hidden behavior on the sphinx rendered scikit-learn.org. See: https://github.com/scikit-learn/scikit-learn/issues/21755 */display: inline-block !important;position: relative;}#sk-container-id-5 div.sk-text-repr-fallback {display: none;}</style><div id=\"sk-container-id-5\" class=\"sk-top-container\"><div class=\"sk-text-repr-fallback\"><pre>RandomForestRegressor()</pre><b>In a Jupyter environment, please rerun this cell to show the HTML representation or trust the notebook. <br />On GitHub, the HTML representation is unable to render, please try loading this page with nbviewer.org.</b></div><div class=\"sk-container\" hidden><div class=\"sk-item\"><div class=\"sk-estimator sk-toggleable\"><input class=\"sk-toggleable__control sk-hidden--visually\" id=\"sk-estimator-id-5\" type=\"checkbox\" checked><label for=\"sk-estimator-id-5\" class=\"sk-toggleable__label sk-toggleable__label-arrow\">RandomForestRegressor</label><div class=\"sk-toggleable__content\"><pre>RandomForestRegressor()</pre></div></div></div></div></div>"
      ],
      "text/plain": [
       "RandomForestRegressor()"
      ]
     },
     "execution_count": 59,
     "metadata": {},
     "output_type": "execute_result"
    }
   ],
   "source": [
    "regressor.fit(X_train,y_train)"
   ]
  },
  {
   "cell_type": "code",
   "execution_count": 60,
   "id": "53a58bf0",
   "metadata": {},
   "outputs": [
    {
     "name": "stdout",
     "output_type": "stream",
     "text": [
      "[122.65289944 130.51350312 127.44899971  96.63109718 119.00120049\n",
      " 114.50139936 124.80170129 117.69279908 107.90180128  98.33069955\n",
      "  95.34679945 167.75819826 148.57770109 116.06500028 170.78270101\n",
      "  85.17909965 122.9650986  108.82539704 113.12010071 131.55630273\n",
      " 124.18679878 113.92120125 115.9431004  108.80439964 108.47860148\n",
      " 125.81589934 119.30669952 112.38379914 113.28770126 125.17159914\n",
      " 145.84900083  89.6003004  167.83689972 113.80999961 108.31720103\n",
      " 120.13740121 141.06169862 161.4157011  174.33739789 153.0397013\n",
      " 119.44790119 113.54990051 121.31469969 113.60809913 122.1761999\n",
      " 107.98900092  88.65919879 114.39839945 129.70870275 117.98590098\n",
      " 103.82010027 129.87780308 107.13539849 160.08680284 131.81010077\n",
      " 117.81889967 146.91220042 134.96880247  95.66500122 124.61880168\n",
      " 114.52839883  86.019401   104.24379923 113.76990091  84.30489939\n",
      " 122.29190005 116.57029916 113.58070214 164.70070295  92.13490008\n",
      "  80.40580086 161.23239999 159.23220275 106.66440019 148.79720078\n",
      " 109.55819745 123.09410047 128.6274007  113.47779962 120.0502012\n",
      " 136.21299757 107.25920127  93.82350055  92.75979866 111.32080065\n",
      " 118.42159997 108.62319919 112.08439958 168.55009976 161.03629847\n",
      " 107.69589856 125.06459988 108.05780076 115.14980177 126.73999816\n",
      " 108.2616995  161.90680273  83.98269893 131.34980323 114.2047001\n",
      " 155.16809973 110.4124984  113.71899976 107.53529982 139.12130007\n",
      "  88.43859981  92.35989892 175.10190157 118.92550051 118.73220007\n",
      " 121.20470058 171.77859733 131.77460081 119.72290064 158.6016021\n",
      " 119.0096984  119.0553996  111.14499954 119.91809942 122.09410019\n",
      " 129.1785978  114.90270009  89.49019922 114.25490112 131.94319854\n",
      " 115.36380087 124.62210003  90.90690029 106.86130079 117.44600126\n",
      " 109.5881992  165.86300182  80.61520081 121.94537494  72.96560191\n",
      " 111.33379922 100.33040069 124.24210016  75.79369972 125.05019951\n",
      " 119.68860112 105.21969981  90.88169905 131.84029985 137.2517018\n",
      " 176.33269971 126.70809929 126.45819925 123.65469994  92.03909848\n",
      " 151.01860119 102.9378991  117.51010008 136.29179807 135.97509896\n",
      " 117.92650018 116.95500159 102.1461983  123.89599911  89.38699974\n",
      " 108.13509947 117.74400063 167.66110078 117.24860049 117.26899952\n",
      " 155.86850133 111.34030006  87.40289946 116.79360128 124.17239919\n",
      " 120.57670222 118.35450009  96.47669825 109.34599978 114.96259914\n",
      " 127.62790097 155.95400092 107.94170116 123.75299891 139.13210257\n",
      "  91.09150057 117.83680063 130.34970003 114.42029904 108.24999925\n",
      " 119.10430052 128.04029954 125.81620049 144.98950138 112.49090093\n",
      "  93.69809967 115.11470029 125.64460065 120.4892016  122.30450058\n",
      "  92.68920073 121.08709873  93.28840015 119.14140016 124.43850056\n",
      " 122.01129999 130.92160015 124.43079937 114.97400162 127.48340074\n",
      " 113.13670084 165.23729959 122.39389764 119.66600164 114.2156005\n",
      " 120.07059967 120.23679943 105.62710148 116.85610039 125.88319913\n",
      " 172.22079719  85.55940008 135.98809888 127.77169914  74.08890044\n",
      " 119.28829957  88.87569982 162.85950238  91.96659974 159.63320217\n",
      " 102.40189845 103.12229943 102.50419886 118.68879934 165.54710112\n",
      " 120.14760098 135.66829834  96.54979786 112.91639927 132.38510099\n",
      " 145.46609964 125.52639985 101.54399988 125.33850058 159.63910048\n",
      " 119.81310134 126.4704007  127.58060074 115.38379952 156.79990233\n",
      " 128.62579948 114.34709917 177.08849912 119.84170199 118.93320117\n",
      " 102.91419896 160.87730016 114.70540064 118.45029955 125.62949947\n",
      " 116.68980114 114.65659948  90.87259992 101.41069969 132.01910054\n",
      " 118.85790233 167.19979854 108.06020105  86.28460057  91.66609954\n",
      " 156.36339891 159.62650075 152.93339817  72.91609953 120.86070016\n",
      " 117.45900012 159.17169936 135.87109831 111.91239959 114.13899985\n",
      " 160.12040086 125.29849979 119.38100115 117.35079976 158.1226028\n",
      " 104.07090009  89.31169946  83.62539934  90.2924995  115.56060008\n",
      " 113.62569964 119.56680119 119.62700107  78.55480016  90.58800059\n",
      " 153.62210319 119.33430102 132.02649976 126.57460082 113.9323009\n",
      "  82.72900066 118.05499881  89.83040039 118.24879904 163.28290283\n",
      " 121.27270077 110.6008005  125.57129894 114.3816004  135.7469004\n",
      "  80.31810089 163.69439953 132.9337018  164.60080032 127.79269902\n",
      "  91.62169943 108.37799917 114.50239916 127.55450092 119.37700184\n",
      "  92.49569933 132.03330007 162.64480005  72.32700188 112.99120019\n",
      " 108.69059956 113.74389804 120.48790082 112.01039951 120.43540009\n",
      " 118.58900197 126.29300074 125.66760136 109.44969984 167.64059984\n",
      " 165.91309868 112.30939926 169.69509679 112.03009996 161.41460184\n",
      " 127.45299878 167.32429861 135.3989012  109.22469847 167.32739948\n",
      " 117.04120145  72.61530115 113.54219991  93.31089961  87.83020048\n",
      " 104.13199881 125.66160043 123.44329757 166.86909916 121.38250076\n",
      "  87.23319892 132.23319846 121.67470027 107.55719977 167.97369968\n",
      " 125.98739761 127.14380077 113.92360132 135.78030053 125.24420131\n",
      " 144.16039895 123.32159939 118.56500004 120.92820025 166.62519998\n",
      "  71.29160057 163.56009853 166.01769858 118.39690032 103.6542984\n",
      " 128.03409908 154.41869958 172.07520066 135.17659794 126.91860012\n",
      " 123.58690017 152.87659786  87.8650001  130.85110212 111.00130083\n",
      " 163.93819954 156.71779926 165.31080064 121.57049985  90.04070049\n",
      " 132.45410152  99.78369924 127.59839815 127.93359822 108.48139957\n",
      "  90.90499903 153.06510096  94.96129892  87.83999929 124.97629951\n",
      "  87.24099809  94.48230119 113.58109929 156.52120363 147.60290073\n",
      " 105.18370028 166.50069731 111.43970056 128.48759943  90.54149926\n",
      " 109.68959965  77.06390083 110.7100998  162.81479887 155.75379844\n",
      " 152.45670167 161.89569953  92.11289845 117.9001016   93.59160136\n",
      " 129.83310056 117.57080047 117.28780023 124.14270032 120.82299962\n",
      "  97.82009939 169.06030169 147.79440197 124.40789858 168.84189771\n",
      "  84.25509996 166.63039807 130.4749034  119.88310159  88.44210001\n",
      " 119.81289895  83.5096987  118.68810111 113.82479864 116.67329938\n",
      " 153.78859843 134.586604   118.26850126 118.96579843 122.91849862\n",
      " 115.32300104 118.58860011 122.15900041 148.02820066 151.7652005\n",
      " 168.7431012   98.20369935 160.02969893  93.12890028 141.8553991\n",
      " 121.27250095  84.24899875 106.39949994 123.68709977 169.18519632\n",
      "  93.51829898  96.44510061 153.11100033]\n"
     ]
    }
   ],
   "source": [
    "#prediction on test data\n",
    "test_data_prediction=regressor.predict(X_test)\n",
    "print(test_data_prediction)"
   ]
  },
  {
   "cell_type": "code",
   "execution_count": 61,
   "id": "bc3767c8",
   "metadata": {},
   "outputs": [
    {
     "data": {
      "text/plain": [
       "2178    122.320000\n",
       "1271    129.899994\n",
       "1268    126.980003\n",
       "44       96.500000\n",
       "2025    117.580002\n",
       "           ...    \n",
       "1872    126.680000\n",
       "1075    167.179993\n",
       "299      93.849998\n",
       "306      96.230003\n",
       "1132    154.339996\n",
       "Name: GLD, Length: 458, dtype: float64"
      ]
     },
     "execution_count": 61,
     "metadata": {},
     "output_type": "execute_result"
    }
   ],
   "source": [
    "y_test"
   ]
  },
  {
   "cell_type": "code",
   "execution_count": 62,
   "id": "54e99a42",
   "metadata": {},
   "outputs": [
    {
     "data": {
      "text/html": [
       "<style>#sk-container-id-6 {color: black;background-color: white;}#sk-container-id-6 pre{padding: 0;}#sk-container-id-6 div.sk-toggleable {background-color: white;}#sk-container-id-6 label.sk-toggleable__label {cursor: pointer;display: block;width: 100%;margin-bottom: 0;padding: 0.3em;box-sizing: border-box;text-align: center;}#sk-container-id-6 label.sk-toggleable__label-arrow:before {content: \"▸\";float: left;margin-right: 0.25em;color: #696969;}#sk-container-id-6 label.sk-toggleable__label-arrow:hover:before {color: black;}#sk-container-id-6 div.sk-estimator:hover label.sk-toggleable__label-arrow:before {color: black;}#sk-container-id-6 div.sk-toggleable__content {max-height: 0;max-width: 0;overflow: hidden;text-align: left;background-color: #f0f8ff;}#sk-container-id-6 div.sk-toggleable__content pre {margin: 0.2em;color: black;border-radius: 0.25em;background-color: #f0f8ff;}#sk-container-id-6 input.sk-toggleable__control:checked~div.sk-toggleable__content {max-height: 200px;max-width: 100%;overflow: auto;}#sk-container-id-6 input.sk-toggleable__control:checked~label.sk-toggleable__label-arrow:before {content: \"▾\";}#sk-container-id-6 div.sk-estimator input.sk-toggleable__control:checked~label.sk-toggleable__label {background-color: #d4ebff;}#sk-container-id-6 div.sk-label input.sk-toggleable__control:checked~label.sk-toggleable__label {background-color: #d4ebff;}#sk-container-id-6 input.sk-hidden--visually {border: 0;clip: rect(1px 1px 1px 1px);clip: rect(1px, 1px, 1px, 1px);height: 1px;margin: -1px;overflow: hidden;padding: 0;position: absolute;width: 1px;}#sk-container-id-6 div.sk-estimator {font-family: monospace;background-color: #f0f8ff;border: 1px dotted black;border-radius: 0.25em;box-sizing: border-box;margin-bottom: 0.5em;}#sk-container-id-6 div.sk-estimator:hover {background-color: #d4ebff;}#sk-container-id-6 div.sk-parallel-item::after {content: \"\";width: 100%;border-bottom: 1px solid gray;flex-grow: 1;}#sk-container-id-6 div.sk-label:hover label.sk-toggleable__label {background-color: #d4ebff;}#sk-container-id-6 div.sk-serial::before {content: \"\";position: absolute;border-left: 1px solid gray;box-sizing: border-box;top: 0;bottom: 0;left: 50%;z-index: 0;}#sk-container-id-6 div.sk-serial {display: flex;flex-direction: column;align-items: center;background-color: white;padding-right: 0.2em;padding-left: 0.2em;position: relative;}#sk-container-id-6 div.sk-item {position: relative;z-index: 1;}#sk-container-id-6 div.sk-parallel {display: flex;align-items: stretch;justify-content: center;background-color: white;position: relative;}#sk-container-id-6 div.sk-item::before, #sk-container-id-6 div.sk-parallel-item::before {content: \"\";position: absolute;border-left: 1px solid gray;box-sizing: border-box;top: 0;bottom: 0;left: 50%;z-index: -1;}#sk-container-id-6 div.sk-parallel-item {display: flex;flex-direction: column;z-index: 1;position: relative;background-color: white;}#sk-container-id-6 div.sk-parallel-item:first-child::after {align-self: flex-end;width: 50%;}#sk-container-id-6 div.sk-parallel-item:last-child::after {align-self: flex-start;width: 50%;}#sk-container-id-6 div.sk-parallel-item:only-child::after {width: 0;}#sk-container-id-6 div.sk-dashed-wrapped {border: 1px dashed gray;margin: 0 0.4em 0.5em 0.4em;box-sizing: border-box;padding-bottom: 0.4em;background-color: white;}#sk-container-id-6 div.sk-label label {font-family: monospace;font-weight: bold;display: inline-block;line-height: 1.2em;}#sk-container-id-6 div.sk-label-container {text-align: center;}#sk-container-id-6 div.sk-container {/* jupyter's `normalize.less` sets `[hidden] { display: none; }` but bootstrap.min.css set `[hidden] { display: none !important; }` so we also need the `!important` here to be able to override the default hidden behavior on the sphinx rendered scikit-learn.org. See: https://github.com/scikit-learn/scikit-learn/issues/21755 */display: inline-block !important;position: relative;}#sk-container-id-6 div.sk-text-repr-fallback {display: none;}</style><div id=\"sk-container-id-6\" class=\"sk-top-container\"><div class=\"sk-text-repr-fallback\"><pre>RandomForestRegressor()</pre><b>In a Jupyter environment, please rerun this cell to show the HTML representation or trust the notebook. <br />On GitHub, the HTML representation is unable to render, please try loading this page with nbviewer.org.</b></div><div class=\"sk-container\" hidden><div class=\"sk-item\"><div class=\"sk-estimator sk-toggleable\"><input class=\"sk-toggleable__control sk-hidden--visually\" id=\"sk-estimator-id-6\" type=\"checkbox\" checked><label for=\"sk-estimator-id-6\" class=\"sk-toggleable__label sk-toggleable__label-arrow\">RandomForestRegressor</label><div class=\"sk-toggleable__content\"><pre>RandomForestRegressor()</pre></div></div></div></div></div>"
      ],
      "text/plain": [
       "RandomForestRegressor()"
      ]
     },
     "execution_count": 62,
     "metadata": {},
     "output_type": "execute_result"
    }
   ],
   "source": [
    "#Random Forest Regression\n",
    "rf = RandomForestRegressor()\n",
    "rf.fit(X_train,y_train)\n"
   ]
  },
  {
   "cell_type": "code",
   "execution_count": 63,
   "id": "3675574a",
   "metadata": {},
   "outputs": [
    {
     "data": {
      "text/plain": [
       "0.9985470382345115"
      ]
     },
     "execution_count": 63,
     "metadata": {},
     "output_type": "execute_result"
    }
   ],
   "source": [
    "score=rf.score(X_train,y_train) # train data accuracy \n",
    "score"
   ]
  },
  {
   "cell_type": "code",
   "execution_count": 64,
   "id": "8b86c07c",
   "metadata": {},
   "outputs": [
    {
     "data": {
      "text/plain": [
       "0.9905143242101547"
      ]
     },
     "execution_count": 64,
     "metadata": {},
     "output_type": "execute_result"
    }
   ],
   "source": [
    "score=rf.score(X_test,y_test) # test data accracy\n",
    "score"
   ]
  },
  {
   "cell_type": "code",
   "execution_count": 65,
   "id": "c4a95894",
   "metadata": {},
   "outputs": [],
   "source": [
    "#compare actual values and predicted values in a plot\n",
    "y_test=list(y_test)"
   ]
  },
  {
   "cell_type": "code",
   "execution_count": 66,
   "id": "2fbe082e",
   "metadata": {},
   "outputs": [
    {
     "data": {
      "image/png": "[encoded data removed]",
      "text/plain": [
       "<Figure size 640x480 with 1 Axes>"
      ]
     },
     "metadata": {},
     "output_type": "display_data"
    }
   ],
   "source": [
    "plt.plot(y_test,color='blue',label='Actual Value')\n",
    "plt.plot(test_data_prediction,color='green',label='Predicted Value')\n",
    "plt.title(\"Actual Price vs Predicted Price\")\n",
    "plt.xlabel(\"Number of values\")\n",
    "plt.ylabel(\"GLD Price\")\n",
    "plt.legend()\n",
    "plt.show()"
   ]
  },
  {
   "cell_type": "code",
   "execution_count": 67,
   "id": "8e156f39",
   "metadata": {},
   "outputs": [
    {
     "data": {
      "text/plain": [
       "0.8802551309658696"
      ]
     },
     "execution_count": 67,
     "metadata": {},
     "output_type": "execute_result"
    }
   ],
   "source": [
    "svr_linear = SVR(kernel='linear')\n",
    "svr_linear.fit(X_train, y_train)\n",
    "svr_linear.score(X_test, y_test)"
   ]
  },
  {
   "cell_type": "code",
   "execution_count": 68,
   "id": "509afeb5",
   "metadata": {},
   "outputs": [
    {
     "data": {
      "text/plain": [
       "0.8418159378233292"
      ]
     },
     "execution_count": 68,
     "metadata": {},
     "output_type": "execute_result"
    }
   ],
   "source": [
    "svr_linear.score(X_train, y_train)"
   ]
  },
  {
   "cell_type": "code",
   "execution_count": 69,
   "id": "ddf4b701",
   "metadata": {},
   "outputs": [
    {
     "data": {
      "text/html": [
       "<style>#sk-container-id-7 {color: black;background-color: white;}#sk-container-id-7 pre{padding: 0;}#sk-container-id-7 div.sk-toggleable {background-color: white;}#sk-container-id-7 label.sk-toggleable__label {cursor: pointer;display: block;width: 100%;margin-bottom: 0;padding: 0.3em;box-sizing: border-box;text-align: center;}#sk-container-id-7 label.sk-toggleable__label-arrow:before {content: \"▸\";float: left;margin-right: 0.25em;color: #696969;}#sk-container-id-7 label.sk-toggleable__label-arrow:hover:before {color: black;}#sk-container-id-7 div.sk-estimator:hover label.sk-toggleable__label-arrow:before {color: black;}#sk-container-id-7 div.sk-toggleable__content {max-height: 0;max-width: 0;overflow: hidden;text-align: left;background-color: #f0f8ff;}#sk-container-id-7 div.sk-toggleable__content pre {margin: 0.2em;color: black;border-radius: 0.25em;background-color: #f0f8ff;}#sk-container-id-7 input.sk-toggleable__control:checked~div.sk-toggleable__content {max-height: 200px;max-width: 100%;overflow: auto;}#sk-container-id-7 input.sk-toggleable__control:checked~label.sk-toggleable__label-arrow:before {content: \"▾\";}#sk-container-id-7 div.sk-estimator input.sk-toggleable__control:checked~label.sk-toggleable__label {background-color: #d4ebff;}#sk-container-id-7 div.sk-label input.sk-toggleable__control:checked~label.sk-toggleable__label {background-color: #d4ebff;}#sk-container-id-7 input.sk-hidden--visually {border: 0;clip: rect(1px 1px 1px 1px);clip: rect(1px, 1px, 1px, 1px);height: 1px;margin: -1px;overflow: hidden;padding: 0;position: absolute;width: 1px;}#sk-container-id-7 div.sk-estimator {font-family: monospace;background-color: #f0f8ff;border: 1px dotted black;border-radius: 0.25em;box-sizing: border-box;margin-bottom: 0.5em;}#sk-container-id-7 div.sk-estimator:hover {background-color: #d4ebff;}#sk-container-id-7 div.sk-parallel-item::after {content: \"\";width: 100%;border-bottom: 1px solid gray;flex-grow: 1;}#sk-container-id-7 div.sk-label:hover label.sk-toggleable__label {background-color: #d4ebff;}#sk-container-id-7 div.sk-serial::before {content: \"\";position: absolute;border-left: 1px solid gray;box-sizing: border-box;top: 0;bottom: 0;left: 50%;z-index: 0;}#sk-container-id-7 div.sk-serial {display: flex;flex-direction: column;align-items: center;background-color: white;padding-right: 0.2em;padding-left: 0.2em;position: relative;}#sk-container-id-7 div.sk-item {position: relative;z-index: 1;}#sk-container-id-7 div.sk-parallel {display: flex;align-items: stretch;justify-content: center;background-color: white;position: relative;}#sk-container-id-7 div.sk-item::before, #sk-container-id-7 div.sk-parallel-item::before {content: \"\";position: absolute;border-left: 1px solid gray;box-sizing: border-box;top: 0;bottom: 0;left: 50%;z-index: -1;}#sk-container-id-7 div.sk-parallel-item {display: flex;flex-direction: column;z-index: 1;position: relative;background-color: white;}#sk-container-id-7 div.sk-parallel-item:first-child::after {align-self: flex-end;width: 50%;}#sk-container-id-7 div.sk-parallel-item:last-child::after {align-self: flex-start;width: 50%;}#sk-container-id-7 div.sk-parallel-item:only-child::after {width: 0;}#sk-container-id-7 div.sk-dashed-wrapped {border: 1px dashed gray;margin: 0 0.4em 0.5em 0.4em;box-sizing: border-box;padding-bottom: 0.4em;background-color: white;}#sk-container-id-7 div.sk-label label {font-family: monospace;font-weight: bold;display: inline-block;line-height: 1.2em;}#sk-container-id-7 div.sk-label-container {text-align: center;}#sk-container-id-7 div.sk-container {/* jupyter's `normalize.less` sets `[hidden] { display: none; }` but bootstrap.min.css set `[hidden] { display: none !important; }` so we also need the `!important` here to be able to override the default hidden behavior on the sphinx rendered scikit-learn.org. See: https://github.com/scikit-learn/scikit-learn/issues/21755 */display: inline-block !important;position: relative;}#sk-container-id-7 div.sk-text-repr-fallback {display: none;}</style><div id=\"sk-container-id-7\" class=\"sk-top-container\"><div class=\"sk-text-repr-fallback\"><pre>SVR(kernel=&#x27;linear&#x27;)</pre><b>In a Jupyter environment, please rerun this cell to show the HTML representation or trust the notebook. <br />On GitHub, the HTML representation is unable to render, please try loading this page with nbviewer.org.</b></div><div class=\"sk-container\" hidden><div class=\"sk-item\"><div class=\"sk-estimator sk-toggleable\"><input class=\"sk-toggleable__control sk-hidden--visually\" id=\"sk-estimator-id-7\" type=\"checkbox\" checked><label for=\"sk-estimator-id-7\" class=\"sk-toggleable__label sk-toggleable__label-arrow\">SVR</label><div class=\"sk-toggleable__content\"><pre>SVR(kernel=&#x27;linear&#x27;)</pre></div></div></div></div></div>"
      ],
      "text/plain": [
       "SVR(kernel='linear')"
      ]
     },
     "execution_count": 69,
     "metadata": {},
     "output_type": "execute_result"
    }
   ],
   "source": [
    "svr_linear.fit(X_train, y_train)"
   ]
  },
  {
   "cell_type": "code",
   "execution_count": 70,
   "id": "2f6395e6",
   "metadata": {},
   "outputs": [],
   "source": [
    "x_pred = svr_linear.predict(X_test)"
   ]
  },
  {
   "cell_type": "code",
   "execution_count": 71,
   "id": "a94f0101",
   "metadata": {},
   "outputs": [
    {
     "data": {
      "text/plain": [
       "array([122.9826353 , 130.74650832, 128.72335405, 106.45788447,\n",
       "       124.0266992 , 114.95052485, 123.78212176, 124.38314582,\n",
       "       109.71926553, 105.64541285,  98.30037627, 164.82243639,\n",
       "       141.898708  , 109.52433355, 169.02169379,  84.93420688,\n",
       "       119.57213491, 116.85169851, 120.19817805, 131.81668346,\n",
       "       120.10138908, 113.93184165, 108.79029424, 102.18430204,\n",
       "       109.95855236, 121.80284495, 119.79432299, 111.54300958,\n",
       "       111.128307  , 121.44257608, 212.56632004,  98.98277399,\n",
       "       165.03777182, 120.84378803, 111.06222447, 123.12005755,\n",
       "       135.85062324, 159.40875241, 188.41935066, 150.69568833,\n",
       "       123.27760637, 119.88906052, 122.99521161, 113.94052187,\n",
       "       122.74307783, 109.79634112,  89.80566808, 114.79839849,\n",
       "       129.96761659, 116.96734901, 106.44448661, 130.12316759,\n",
       "       106.04978377, 158.72414646, 143.07281321, 119.20903233,\n",
       "       169.64627255, 129.73182506,  99.66810017, 123.36298488,\n",
       "       112.04783017,  85.15372126, 110.91027263, 118.63220069,\n",
       "        85.3761883 , 123.2624985 , 118.74504917, 110.74801215,\n",
       "       160.46288984,  92.64245228,  79.84525493, 156.23239275,\n",
       "       153.68298758, 106.79011994, 150.36580417, 106.9440603 ,\n",
       "       122.09524416, 125.18000499, 113.27402734, 111.68757923,\n",
       "       132.90533548, 112.4482392 ,  97.43900704,  99.1116787 ,\n",
       "       109.40387848, 112.86548869, 102.53397899, 110.32793913,\n",
       "       167.56960702, 158.67200088, 103.25326728, 125.95972235,\n",
       "       109.02566432, 108.7871127 , 125.37317706, 105.40795547,\n",
       "       160.13220114,  77.68725192, 130.47671401, 110.67089132,\n",
       "       166.27047012, 107.90650962, 115.28448905, 106.48394584,\n",
       "       151.28384958,  90.07109873,  88.99442816, 192.19533947,\n",
       "       119.59381051, 110.38944008, 122.98325182, 171.72235153,\n",
       "       142.68965256, 125.74583859, 155.88714304, 113.93611206,\n",
       "       120.98137282, 107.92130037, 121.189995  , 120.40709341,\n",
       "       132.1860743 , 115.2281065 ,  90.00489641, 112.57878423,\n",
       "       150.49770639, 111.91782432, 118.51568401,  94.49303252,\n",
       "       108.63850083, 112.84291704, 105.91374056, 162.75242848,\n",
       "        83.13111906, 122.30132324,  75.32062085, 113.0452327 ,\n",
       "        99.04493612, 120.96343184,  77.09015648, 119.30730756,\n",
       "       111.56928996, 108.18441926,  91.93124333, 146.22679071,\n",
       "       150.64775806, 193.11620867, 119.57269362, 120.70914794,\n",
       "       121.06289251,  96.92176593, 174.43162844, 108.84238299,\n",
       "       112.51616412, 141.59329797, 129.76513358, 121.27558582,\n",
       "       116.34186692, 109.05333601, 121.41925826,  90.56043592,\n",
       "       105.64799177, 117.04920977, 195.10427887, 122.92554794,\n",
       "       119.82721962, 148.92390854, 114.53053002,  89.9675255 ,\n",
       "       110.89766908, 119.16457265, 118.0545195 , 113.04721332,\n",
       "       106.06315449, 105.88562315, 113.24691168, 125.99137425,\n",
       "       147.56050525, 109.18995335, 121.42821081, 174.41414195,\n",
       "        95.59911847, 113.37160456, 127.90729464, 120.91542818,\n",
       "       103.56047747, 120.18502943, 130.03149137, 126.84429142,\n",
       "       177.02254566, 113.60085972,  96.07775719, 115.7348454 ,\n",
       "       124.03951351, 119.66980103, 122.52726963,  93.07034416,\n",
       "       121.68042064,  97.50899484, 110.92299792, 121.19546173,\n",
       "       123.05070243, 126.31780377, 119.5096902 , 117.61416483,\n",
       "       125.3562318 , 110.57028745, 161.39734725, 123.38316819,\n",
       "       118.27843743, 110.42271807, 121.07681459, 121.22709827,\n",
       "       100.63910864, 117.39186629, 122.43462219, 171.23578049,\n",
       "        88.95986872, 144.60501517, 126.09102518,  76.06027005,\n",
       "       119.50226563,  92.52124557, 160.74343821,  89.44690583,\n",
       "       152.82706533, 109.21308134, 108.81058993, 108.27078746,\n",
       "       120.06507358, 163.29427813, 122.10322222, 148.49099225,\n",
       "       105.23325506, 109.7083128 , 134.87016864, 206.34297163,\n",
       "       126.55396094, 108.65905842, 121.44451721, 157.84119191,\n",
       "       119.8204386 , 124.53587597, 125.9394115 , 113.49946036,\n",
       "       188.26613805, 133.04419595, 121.09958516, 194.58732747,\n",
       "       117.26543072, 118.02513659, 108.99919256, 155.60833257,\n",
       "       111.90193071, 120.55261908, 121.30622079, 119.53412802,\n",
       "       115.25262097,  97.07944613, 105.46934499, 130.76893884,\n",
       "       125.3923474 , 167.18791668, 106.08012897,  90.97121894,\n",
       "        92.89570356, 151.27576418, 167.62673174, 144.28696105,\n",
       "        74.45584029, 111.84292899, 115.94644471, 157.81566568,\n",
       "       129.92501526, 112.85388069, 120.83891406, 159.35475301,\n",
       "       124.66229451, 119.94730246, 118.70916656, 155.04245308,\n",
       "       110.09016969,  90.66838593,  75.75361846,  98.29215151,\n",
       "       115.67179503, 120.75364402, 117.50807361, 122.47203151,\n",
       "        79.75975685,  93.34279573, 144.01722776, 111.58436045,\n",
       "       131.07751801, 124.34073246, 110.98851491,  78.74021032,\n",
       "       109.88104211,  92.77745248, 110.23411716, 159.48835733,\n",
       "       122.37918701, 111.03185677, 124.22888295, 110.29713229,\n",
       "       132.04528421,  78.90308537, 162.98735873, 141.66242537,\n",
       "       164.32192157, 127.6239143 ,  95.79296748, 105.10258869,\n",
       "       121.03081313, 131.40106604, 126.0281251 ,  94.06063878,\n",
       "       139.29263969, 160.96295772,  74.04048585, 111.745637  ,\n",
       "       107.41624627, 114.69818865, 119.5880818 , 111.48689192,\n",
       "       117.78764865, 111.24005105, 124.26775973, 125.49690462,\n",
       "       108.57186411, 164.88352805, 180.11261315, 109.07112168,\n",
       "       169.36217724, 110.89216427, 160.40807622, 123.23842873,\n",
       "       165.56196498, 144.8455257 , 107.26236206, 165.83518932,\n",
       "       118.01724337,  75.25762394, 113.65776548,  92.7418861 ,\n",
       "        91.38365216, 110.27060531, 126.21867696, 124.57120397,\n",
       "       167.9037016 , 122.47859879,  89.24924918, 144.46728191,\n",
       "       116.89619452, 104.87350963, 171.48248832, 125.13388914,\n",
       "       126.79564929, 113.71937143, 145.16321392, 124.33753875,\n",
       "       186.45112218, 121.46870993, 119.66699418, 123.81508319,\n",
       "       164.44725241,  71.16664482, 163.2719172 , 168.79050212,\n",
       "       117.67962478, 107.75424713, 126.17615076, 147.61261996,\n",
       "       171.50403419, 148.52858217, 126.21241152, 122.91241547,\n",
       "       173.06493565,  90.18001613, 126.42034348, 117.96782092,\n",
       "       158.14080735, 150.55317333, 162.54603344, 117.35952152,\n",
       "        91.19193003, 131.7710096 , 104.59257397, 125.77497573,\n",
       "       125.8421896 , 105.36938109,  95.7007814 , 151.27877022,\n",
       "        97.47258181,  86.48490709, 119.93745587,  89.03036138,\n",
       "        95.629178  , 113.76618332, 148.38517362, 171.76461881,\n",
       "       108.56477209, 165.84536113, 112.3373417 , 131.44968935,\n",
       "        91.12418693, 116.9345573 ,  78.22308868, 113.48643569,\n",
       "       162.26479408, 148.75112939, 145.59114135, 159.94328975,\n",
       "        97.85586819, 116.84680955,  95.86599108, 124.71324903,\n",
       "       116.99161667, 119.56181972, 117.58082982, 121.4037013 ,\n",
       "       106.8034149 , 169.05520917, 166.63925576, 120.67246977,\n",
       "       168.19116337,  85.55079919, 166.13235038, 130.64542235,\n",
       "       121.92530055,  96.34543563, 119.35835223,  84.10224609,\n",
       "       120.8676384 , 108.49086073, 118.2962427 , 151.72260765,\n",
       "       155.35818559, 119.09982131, 114.20461984, 119.93777484,\n",
       "       112.44001639, 120.67756102, 122.58152658, 153.61204317,\n",
       "       170.73812175, 168.27229372, 103.14039294, 158.8070448 ,\n",
       "        94.75688822, 146.30524081, 122.79930322,  84.01979275,\n",
       "       111.42289094, 121.23912062, 170.17628422,  96.69553941,\n",
       "       100.61259362, 151.88959135])"
      ]
     },
     "execution_count": 71,
     "metadata": {},
     "output_type": "execute_result"
    }
   ],
   "source": [
    "y_pred = svr_linear.predict(X_test)\n",
    "y_pred"
   ]
  },
  {
   "cell_type": "code",
   "execution_count": 72,
   "id": "c0184e0c",
   "metadata": {},
   "outputs": [
    {
     "data": {
      "text/plain": [
       "[122.32,\n",
       " 129.899994,\n",
       " 126.980003,\n",
       " 96.5,\n",
       " 117.580002,\n",
       " 115.0,\n",
       " 125.440002,\n",
       " 116.93,\n",
       " 108.220001,\n",
       " 98.830002,\n",
       " 96.910004,\n",
       " 168.789993,\n",
       " 151.029999,\n",
       " 115.839996,\n",
       " 169.809998,\n",
       " 85.129997,\n",
       " 122.639999,\n",
       " 107.849998,\n",
       " 110.449997,\n",
       " 131.240005,\n",
       " 124.940002,\n",
       " 115.379997,\n",
       " 116.650002,\n",
       " 109.25,\n",
       " 110.529999,\n",
       " 125.720001,\n",
       " 123.709999,\n",
       " 114.949997,\n",
       " 114.290001,\n",
       " 126.860001,\n",
       " 146.869995,\n",
       " 89.440002,\n",
       " 167.270004,\n",
       " 115.050003,\n",
       " 117.110001,\n",
       " 120.620003,\n",
       " 141.630005,\n",
       " 160.649994,\n",
       " 173.309998,\n",
       " 152.300003,\n",
       " 117.459999,\n",
       " 113.150002,\n",
       " 121.309998,\n",
       " 113.470001,\n",
       " 121.349998,\n",
       " 107.519997,\n",
       " 88.839996,\n",
       " 114.440002,\n",
       " 130.559998,\n",
       " 117.739998,\n",
       " 99.669998,\n",
       " 129.770004,\n",
       " 106.169998,\n",
       " 161.070007,\n",
       " 127.93,\n",
       " 115.940002,\n",
       " 143.470001,\n",
       " 130.110001,\n",
       " 95.730003,\n",
       " 124.360001,\n",
       " 116.620003,\n",
       " 85.599998,\n",
       " 104.099998,\n",
       " 112.610001,\n",
       " 86.519997,\n",
       " 122.400002,\n",
       " 116.470001,\n",
       " 112.660004,\n",
       " 166.399994,\n",
       " 91.989998,\n",
       " 80.809998,\n",
       " 160.559998,\n",
       " 157.639999,\n",
       " 103.419998,\n",
       " 135.020004,\n",
       " 110.400002,\n",
       " 124.43,\n",
       " 127.739998,\n",
       " 112.440002,\n",
       " 119.910004,\n",
       " 137.809998,\n",
       " 105.720001,\n",
       " 93.559998,\n",
       " 92.730003,\n",
       " 111.510002,\n",
       " 119.580002,\n",
       " 109.980003,\n",
       " 111.970001,\n",
       " 166.380005,\n",
       " 161.539993,\n",
       " 106.480003,\n",
       " 124.779999,\n",
       " 106.129997,\n",
       " 115.849998,\n",
       " 125.720001,\n",
       " 107.75,\n",
       " 162.009995,\n",
       " 78.389999,\n",
       " 129.520004,\n",
       " 115.639999,\n",
       " 145.729996,\n",
       " 109.790001,\n",
       " 112.290001,\n",
       " 107.339996,\n",
       " 136.179993,\n",
       " 86.449997,\n",
       " 92.059998,\n",
       " 178.539993,\n",
       " 118.93,\n",
       " 120.559998,\n",
       " 121.559998,\n",
       " 172.410004,\n",
       " 130.100006,\n",
       " 119.330002,\n",
       " 159.619995,\n",
       " 118.989998,\n",
       " 118.32,\n",
       " 110.239998,\n",
       " 119.190002,\n",
       " 122.07,\n",
       " 129.649994,\n",
       " 114.099998,\n",
       " 88.139999,\n",
       " 114.769997,\n",
       " 131.660004,\n",
       " 114.470001,\n",
       " 124.150002,\n",
       " 89.540001,\n",
       " 106.220001,\n",
       " 117.220001,\n",
       " 108.599998,\n",
       " 165.880005,\n",
       " 80.389999,\n",
       " 122.230003,\n",
       " 72.510002,\n",
       " 109.139999,\n",
       " 104.040001,\n",
       " 122.879997,\n",
       " 76.949997,\n",
       " 128.119995,\n",
       " 121.269997,\n",
       " 110.949997,\n",
       " 92.629997,\n",
       " 129.869995,\n",
       " 135.320007,\n",
       " 172.360001,\n",
       " 128.470001,\n",
       " 127.480003,\n",
       " 124.910004,\n",
       " 92.559998,\n",
       " 151.589996,\n",
       " 103.559998,\n",
       " 117.919998,\n",
       " 133.110001,\n",
       " 135.520004,\n",
       " 119.650002,\n",
       " 117.300003,\n",
       " 102.550003,\n",
       " 124.400002,\n",
       " 90.040001,\n",
       " 108.279999,\n",
       " 118.470001,\n",
       " 161.490005,\n",
       " 116.25,\n",
       " 116.120003,\n",
       " 157.460007,\n",
       " 111.43,\n",
       " 87.379997,\n",
       " 116.980003,\n",
       " 124.690002,\n",
       " 121.199997,\n",
       " 120.730003,\n",
       " 99.169998,\n",
       " 107.949997,\n",
       " 114.43,\n",
       " 126.449997,\n",
       " 156.479996,\n",
       " 107.839996,\n",
       " 124.230003,\n",
       " 139.410004,\n",
       " 91.110001,\n",
       " 117.870003,\n",
       " 127.400002,\n",
       " 114.870003,\n",
       " 109.43,\n",
       " 119.169998,\n",
       " 127.269997,\n",
       " 124.279999,\n",
       " 148.589996,\n",
       " 111.860001,\n",
       " 94.599998,\n",
       " 113.639999,\n",
       " 124.82,\n",
       " 120.870003,\n",
       " 122.669998,\n",
       " 93.129997,\n",
       " 119.940002,\n",
       " 93.269997,\n",
       " 121.489998,\n",
       " 123.919998,\n",
       " 122.129997,\n",
       " 132.130005,\n",
       " 123.760002,\n",
       " 115.059998,\n",
       " 127.970001,\n",
       " 112.220001,\n",
       " 164.860001,\n",
       " 122.900002,\n",
       " 120.099998,\n",
       " 112.75,\n",
       " 119.550003,\n",
       " 122.290001,\n",
       " 107.040001,\n",
       " 116.550003,\n",
       " 125.779999,\n",
       " 172.100006,\n",
       " 85.199997,\n",
       " 134.179993,\n",
       " 127.059998,\n",
       " 73.580002,\n",
       " 118.970001,\n",
       " 89.220001,\n",
       " 162.070007,\n",
       " 92.660004,\n",
       " 160.5,\n",
       " 102.279999,\n",
       " 102.040001,\n",
       " 103.110001,\n",
       " 118.080002,\n",
       " 166.070007,\n",
       " 120.360001,\n",
       " 136.5,\n",
       " 97.010002,\n",
       " 114.309998,\n",
       " 132.490005,\n",
       " 146.5,\n",
       " 126.300003,\n",
       " 101.760002,\n",
       " 124.720001,\n",
       " 157.210007,\n",
       " 122.379997,\n",
       " 127.279999,\n",
       " 128.070007,\n",
       " 116.330002,\n",
       " 157.320007,\n",
       " 130.270004,\n",
       " 113.970001,\n",
       " 179.100006,\n",
       " 119.699997,\n",
       " 121.050003,\n",
       " 102.940002,\n",
       " 160.520004,\n",
       " 115.050003,\n",
       " 118.519997,\n",
       " 126.089996,\n",
       " 116.5,\n",
       " 115.470001,\n",
       " 91.150002,\n",
       " 98.360001,\n",
       " 131.699997,\n",
       " 118.940002,\n",
       " 172.070007,\n",
       " 107.470001,\n",
       " 85.809998,\n",
       " 92.389999,\n",
       " 156.460007,\n",
       " 136.240005,\n",
       " 152.990005,\n",
       " 71.099998,\n",
       " 121.68,\n",
       " 118.190002,\n",
       " 159.050003,\n",
       " 135.229996,\n",
       " 111.419998,\n",
       " 111.830002,\n",
       " 159.429993,\n",
       " 124.529999,\n",
       " 120.839996,\n",
       " 114.82,\n",
       " 161.220001,\n",
       " 104.400002,\n",
       " 89.18,\n",
       " 78.860001,\n",
       " 89.849998,\n",
       " 115.68,\n",
       " 114.32,\n",
       " 120.760002,\n",
       " 119.610001,\n",
       " 76.199997,\n",
       " 88.25,\n",
       " 153.029999,\n",
       " 119.779999,\n",
       " 132.009995,\n",
       " 128.460007,\n",
       " 113.75,\n",
       " 80.93,\n",
       " 117.209999,\n",
       " 89.589996,\n",
       " 117.959999,\n",
       " 163.229996,\n",
       " 122.489998,\n",
       " 110.760002,\n",
       " 125.580002,\n",
       " 114.629997,\n",
       " 138.369995,\n",
       " 80.870003,\n",
       " 163.210007,\n",
       " 135.589996,\n",
       " 162.300003,\n",
       " 127.580002,\n",
       " 92.25,\n",
       " 111.019997,\n",
       " 115.269997,\n",
       " 129.289993,\n",
       " 119.699997,\n",
       " 92.269997,\n",
       " 133.690002,\n",
       " 161.419998,\n",
       " 72.650002,\n",
       " 117.769997,\n",
       " 107.370003,\n",
       " 115.110001,\n",
       " 121.800003,\n",
       " 111.540001,\n",
       " 122.419998,\n",
       " 118.230003,\n",
       " 126.419998,\n",
       " 126.339996,\n",
       " 111.589996,\n",
       " 166.419998,\n",
       " 168.610001,\n",
       " 110.889999,\n",
       " 168.710007,\n",
       " 112.849998,\n",
       " 161.839996,\n",
       " 128.380005,\n",
       " 167.119995,\n",
       " 137.660004,\n",
       " 109.800003,\n",
       " 167.869995,\n",
       " 115.889999,\n",
       " 72.050003,\n",
       " 113.779999,\n",
       " 95.120003,\n",
       " 88.800003,\n",
       " 104.389999,\n",
       " 125.32,\n",
       " 124.32,\n",
       " 170.850006,\n",
       " 120.860001,\n",
       " 86.309998,\n",
       " 131.029999,\n",
       " 122.699997,\n",
       " 107.309998,\n",
       " 172.229996,\n",
       " 125.620003,\n",
       " 127.779999,\n",
       " 114.720001,\n",
       " 137.779999,\n",
       " 125.459999,\n",
       " 142.380005,\n",
       " 121.290001,\n",
       " 117.519997,\n",
       " 121.650002,\n",
       " 168.350006,\n",
       " 72.18,\n",
       " 161.589996,\n",
       " 164.289993,\n",
       " 117.540001,\n",
       " 104.209999,\n",
       " 130.289993,\n",
       " 151.330002,\n",
       " 171.470001,\n",
       " 134.699997,\n",
       " 128.830002,\n",
       " 127.860001,\n",
       " 148.970001,\n",
       " 88.470001,\n",
       " 130.369995,\n",
       " 110.470001,\n",
       " 163.5,\n",
       " 157.929993,\n",
       " 168.179993,\n",
       " 122.709999,\n",
       " 90.709999,\n",
       " 134.070007,\n",
       " 99.82,\n",
       " 127.699997,\n",
       " 124.269997,\n",
       " 108.470001,\n",
       " 90.959999,\n",
       " 152.380005,\n",
       " 95.449997,\n",
       " 87.019997,\n",
       " 125.540001,\n",
       " 86.889999,\n",
       " 93.190002,\n",
       " 113.260002,\n",
       " 157.429993,\n",
       " 145.649994,\n",
       " 104.720001,\n",
       " 167.919998,\n",
       " 111.980003,\n",
       " 128.559998,\n",
       " 91.730003,\n",
       " 108.860001,\n",
       " 80.379997,\n",
       " 110.809998,\n",
       " 164.309998,\n",
       " 156.5,\n",
       " 149.740005,\n",
       " 162.559998,\n",
       " 92.290001,\n",
       " 118.769997,\n",
       " 92.790001,\n",
       " 130.619995,\n",
       " 117.339996,\n",
       " 116.790001,\n",
       " 123.32,\n",
       " 120.650002,\n",
       " 98.339996,\n",
       " 173.360001,\n",
       " 145.369995,\n",
       " 125.809998,\n",
       " 169.059998,\n",
       " 82.709999,\n",
       " 167.289993,\n",
       " 129.339996,\n",
       " 119.82,\n",
       " 87.68,\n",
       " 118.300003,\n",
       " 82.75,\n",
       " 118.459999,\n",
       " 118.489998,\n",
       " 115.620003,\n",
       " 155.229996,\n",
       " 133.139999,\n",
       " 118.150002,\n",
       " 119.800003,\n",
       " 122.419998,\n",
       " 113.830002,\n",
       " 118.18,\n",
       " 122.209999,\n",
       " 139.110001,\n",
       " 173.529999,\n",
       " 170.770004,\n",
       " 97.080002,\n",
       " 159.309998,\n",
       " 92.339996,\n",
       " 135.419998,\n",
       " 121.940002,\n",
       " 84.480003,\n",
       " 107.110001,\n",
       " 126.68,\n",
       " 167.179993,\n",
       " 93.849998,\n",
       " 96.230003,\n",
       " 154.339996]"
      ]
     },
     "execution_count": 72,
     "metadata": {},
     "output_type": "execute_result"
    }
   ],
   "source": [
    "y_test"
   ]
  },
  {
   "cell_type": "markdown",
   "id": "22b9bd4b",
   "metadata": {},
   "source": [
    "# Deployment Phase"
   ]
  },
  {
   "cell_type": "code",
   "execution_count": 117,
   "id": "d5eeb1e5",
   "metadata": {},
   "outputs": [
    {
     "name": "stderr",
     "output_type": "stream",
     "text": [
      "C:\\Users\\Aaba\\anaconda3\\lib\\site-packages\\sklearn\\base.py:420: UserWarning: X does not have valid feature names, but StandardScaler was fitted with feature names\n",
      "  warnings.warn(\n",
      "C:\\Users\\Aaba\\anaconda3\\lib\\site-packages\\sklearn\\base.py:420: UserWarning: X does not have valid feature names, but RandomForestRegressor was fitted with feature names\n",
      "  warnings.warn(\n"
     ]
    },
    {
     "data": {
      "text/plain": [
       "array([79.21759897])"
      ]
     },
     "execution_count": 117,
     "metadata": {},
     "output_type": "execute_result"
    }
   ],
   "source": [
    "input_data=(14.630005,77.309998,15.1670,1.475492)\n",
    "input_data_np=np.array(input_data)\n",
    "input_data_re=input_data_np.reshape(1,-1)\n",
    "s_data=sc.transform(input_data_re)\n",
    "pred=rf.predict(s_data)\n",
    "pred"
   ]
  },
  {
   "cell_type": "code",
   "execution_count": 110,
   "id": "dc7267b8",
   "metadata": {},
   "outputs": [
    {
     "data": {
      "text/html": [
       "<div>\n",
       "<style scoped>\n",
       "    .dataframe tbody tr th:only-of-type {\n",
       "        vertical-align: middle;\n",
       "    }\n",
       "\n",
       "    .dataframe tbody tr th {\n",
       "        vertical-align: top;\n",
       "    }\n",
       "\n",
       "    .dataframe thead th {\n",
       "        text-align: right;\n",
       "    }\n",
       "</style>\n",
       "<table border=\"1\" class=\"dataframe\">\n",
       "  <thead>\n",
       "    <tr style=\"text-align: right;\">\n",
       "      <th></th>\n",
       "      <th>SPX</th>\n",
       "      <th>USO</th>\n",
       "      <th>SLV</th>\n",
       "      <th>EUR/USD</th>\n",
       "    </tr>\n",
       "  </thead>\n",
       "  <tbody>\n",
       "    <tr>\n",
       "      <th>0</th>\n",
       "      <td>1447.160034</td>\n",
       "      <td>78.470001</td>\n",
       "      <td>15.1800</td>\n",
       "      <td>1.471692</td>\n",
       "    </tr>\n",
       "    <tr>\n",
       "      <th>1</th>\n",
       "      <td>1447.160034</td>\n",
       "      <td>78.370003</td>\n",
       "      <td>15.2850</td>\n",
       "      <td>1.474491</td>\n",
       "    </tr>\n",
       "    <tr>\n",
       "      <th>2</th>\n",
       "      <td>1411.630005</td>\n",
       "      <td>77.309998</td>\n",
       "      <td>15.1670</td>\n",
       "      <td>1.475492</td>\n",
       "    </tr>\n",
       "    <tr>\n",
       "      <th>3</th>\n",
       "      <td>1416.180054</td>\n",
       "      <td>75.500000</td>\n",
       "      <td>15.0530</td>\n",
       "      <td>1.468299</td>\n",
       "    </tr>\n",
       "    <tr>\n",
       "      <th>4</th>\n",
       "      <td>1390.189941</td>\n",
       "      <td>76.059998</td>\n",
       "      <td>15.5900</td>\n",
       "      <td>1.557099</td>\n",
       "    </tr>\n",
       "    <tr>\n",
       "      <th>...</th>\n",
       "      <td>...</td>\n",
       "      <td>...</td>\n",
       "      <td>...</td>\n",
       "      <td>...</td>\n",
       "    </tr>\n",
       "    <tr>\n",
       "      <th>2285</th>\n",
       "      <td>2671.919922</td>\n",
       "      <td>14.060000</td>\n",
       "      <td>15.5100</td>\n",
       "      <td>1.186789</td>\n",
       "    </tr>\n",
       "    <tr>\n",
       "      <th>2286</th>\n",
       "      <td>2697.790039</td>\n",
       "      <td>14.370000</td>\n",
       "      <td>15.5300</td>\n",
       "      <td>1.184722</td>\n",
       "    </tr>\n",
       "    <tr>\n",
       "      <th>2287</th>\n",
       "      <td>2723.070068</td>\n",
       "      <td>14.410000</td>\n",
       "      <td>15.7400</td>\n",
       "      <td>1.191753</td>\n",
       "    </tr>\n",
       "    <tr>\n",
       "      <th>2288</th>\n",
       "      <td>2730.129883</td>\n",
       "      <td>14.380000</td>\n",
       "      <td>15.5600</td>\n",
       "      <td>1.193118</td>\n",
       "    </tr>\n",
       "    <tr>\n",
       "      <th>2289</th>\n",
       "      <td>2725.780029</td>\n",
       "      <td>14.405800</td>\n",
       "      <td>15.4542</td>\n",
       "      <td>1.182033</td>\n",
       "    </tr>\n",
       "  </tbody>\n",
       "</table>\n",
       "<p>2290 rows × 4 columns</p>\n",
       "</div>"
      ],
      "text/plain": [
       "              SPX        USO      SLV   EUR/USD\n",
       "0     1447.160034  78.470001  15.1800  1.471692\n",
       "1     1447.160034  78.370003  15.2850  1.474491\n",
       "2     1411.630005  77.309998  15.1670  1.475492\n",
       "3     1416.180054  75.500000  15.0530  1.468299\n",
       "4     1390.189941  76.059998  15.5900  1.557099\n",
       "...           ...        ...      ...       ...\n",
       "2285  2671.919922  14.060000  15.5100  1.186789\n",
       "2286  2697.790039  14.370000  15.5300  1.184722\n",
       "2287  2723.070068  14.410000  15.7400  1.191753\n",
       "2288  2730.129883  14.380000  15.5600  1.193118\n",
       "2289  2725.780029  14.405800  15.4542  1.182033\n",
       "\n",
       "[2290 rows x 4 columns]"
      ]
     },
     "execution_count": 110,
     "metadata": {},
     "output_type": "execute_result"
    }
   ],
   "source": [
    "X"
   ]
  },
  {
   "cell_type": "code",
   "execution_count": 111,
   "id": "065d779e",
   "metadata": {},
   "outputs": [
    {
     "data": {
      "text/plain": [
       "0        84.860001\n",
       "1        85.570000\n",
       "2        85.129997\n",
       "3        84.769997\n",
       "4        86.779999\n",
       "           ...    \n",
       "2285    124.589996\n",
       "2286    124.330002\n",
       "2287    125.180000\n",
       "2288    124.489998\n",
       "2289    122.543800\n",
       "Name: GLD, Length: 2290, dtype: float64"
      ]
     },
     "execution_count": 111,
     "metadata": {},
     "output_type": "execute_result"
    }
   ],
   "source": [
    "y"
   ]
  },
  {
   "cell_type": "code",
   "execution_count": null,
   "id": "7b4c89d4",
   "metadata": {},
   "outputs": [],
   "source": []
  }
 ],
 "metadata": {
  "kernelspec": {
   "display_name": "Python 3 (ipykernel)",
   "language": "python",
   "name": "python3"
  },
  "language_info": {
   "codemirror_mode": {
    "name": "ipython",
    "version": 3
   },
   "file_extension": ".py",
   "mimetype": "text/x-python",
   "name": "python",
   "nbconvert_exporter": "python",
   "pygments_lexer": "ipython3",
   "version": "3.10.9"
  }
 },
 "nbformat": 4,
 "nbformat_minor": 5
}
